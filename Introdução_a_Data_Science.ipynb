{
  "nbformat": 4,
  "nbformat_minor": 0,
  "metadata": {
    "colab": {
      "name": "Introdução a Data Science",
      "provenance": [],
      "collapsed_sections": [
        "rWmOvpphEdwy",
        "EaSzoaeeErD5",
        "VJd0yKAXESMI",
        "UlGFBTKyuJyY",
        "4sj3VK7ozP5k"
      ],
      "toc_visible": true,
      "include_colab_link": true
    },
    "kernelspec": {
      "name": "python3",
      "display_name": "Python 3"
    }
  },
  "cells": [
    {
      "cell_type": "markdown",
      "metadata": {
        "id": "view-in-github",
        "colab_type": "text"
      },
      "source": [
        "<a href=\"https://colab.research.google.com/github/Diegodesouza7/Barbearia_Alura_HTML_CSS/blob/master/Introdu%C3%A7%C3%A3o_a_Data_Science.ipynb\" target=\"_parent\"><img src=\"https://colab.research.google.com/assets/colab-badge.svg\" alt=\"Open In Colab\"/></a>"
      ]
    },
    {
      "cell_type": "markdown",
      "metadata": {
        "id": "rWmOvpphEdwy",
        "colab_type": "text"
      },
      "source": [
        "#Analisando as notas em geral"
      ]
    },
    {
      "cell_type": "code",
      "metadata": {
        "id": "EIeydkAH08Vu",
        "colab_type": "code",
        "colab": {}
      },
      "source": [
        "import pandas as pd"
      ],
      "execution_count": 0,
      "outputs": []
    },
    {
      "cell_type": "code",
      "metadata": {
        "id": "IWXvV0y12AE2",
        "colab_type": "code",
        "outputId": "06c64725-386b-4595-a396-8d4c351a194e",
        "colab": {
          "base_uri": "https://localhost:8080/",
          "height": 0
        }
      },
      "source": [
        "notas = pd.read_csv(\"ratings.csv\")\n",
        "notas.head()"
      ],
      "execution_count": 27,
      "outputs": [
        {
          "output_type": "execute_result",
          "data": {
            "text/html": [
              "<div>\n",
              "<style scoped>\n",
              "    .dataframe tbody tr th:only-of-type {\n",
              "        vertical-align: middle;\n",
              "    }\n",
              "\n",
              "    .dataframe tbody tr th {\n",
              "        vertical-align: top;\n",
              "    }\n",
              "\n",
              "    .dataframe thead th {\n",
              "        text-align: right;\n",
              "    }\n",
              "</style>\n",
              "<table border=\"1\" class=\"dataframe\">\n",
              "  <thead>\n",
              "    <tr style=\"text-align: right;\">\n",
              "      <th></th>\n",
              "      <th>userId</th>\n",
              "      <th>movieId</th>\n",
              "      <th>rating</th>\n",
              "      <th>timestamp</th>\n",
              "    </tr>\n",
              "  </thead>\n",
              "  <tbody>\n",
              "    <tr>\n",
              "      <th>0</th>\n",
              "      <td>1</td>\n",
              "      <td>1</td>\n",
              "      <td>4.0</td>\n",
              "      <td>964982703</td>\n",
              "    </tr>\n",
              "    <tr>\n",
              "      <th>1</th>\n",
              "      <td>1</td>\n",
              "      <td>3</td>\n",
              "      <td>4.0</td>\n",
              "      <td>964981247</td>\n",
              "    </tr>\n",
              "    <tr>\n",
              "      <th>2</th>\n",
              "      <td>1</td>\n",
              "      <td>6</td>\n",
              "      <td>4.0</td>\n",
              "      <td>964982224</td>\n",
              "    </tr>\n",
              "    <tr>\n",
              "      <th>3</th>\n",
              "      <td>1</td>\n",
              "      <td>47</td>\n",
              "      <td>5.0</td>\n",
              "      <td>964983815</td>\n",
              "    </tr>\n",
              "    <tr>\n",
              "      <th>4</th>\n",
              "      <td>1</td>\n",
              "      <td>50</td>\n",
              "      <td>5.0</td>\n",
              "      <td>964982931</td>\n",
              "    </tr>\n",
              "  </tbody>\n",
              "</table>\n",
              "</div>"
            ],
            "text/plain": [
              "   userId  movieId  rating  timestamp\n",
              "0       1        1     4.0  964982703\n",
              "1       1        3     4.0  964981247\n",
              "2       1        6     4.0  964982224\n",
              "3       1       47     5.0  964983815\n",
              "4       1       50     5.0  964982931"
            ]
          },
          "metadata": {
            "tags": []
          },
          "execution_count": 27
        }
      ]
    },
    {
      "cell_type": "code",
      "metadata": {
        "id": "Qi1E6Wsu2Sp7",
        "colab_type": "code",
        "outputId": "8e8a126a-28ea-4223-fe7a-291b4ec2cfa1",
        "colab": {
          "base_uri": "https://localhost:8080/",
          "height": 0
        }
      },
      "source": [
        "notas.shape"
      ],
      "execution_count": 28,
      "outputs": [
        {
          "output_type": "execute_result",
          "data": {
            "text/plain": [
              "(100836, 4)"
            ]
          },
          "metadata": {
            "tags": []
          },
          "execution_count": 28
        }
      ]
    },
    {
      "cell_type": "code",
      "metadata": {
        "id": "mSwPywn22gxY",
        "colab_type": "code",
        "outputId": "c0400a96-2c11-4ca8-c882-9d2dbee98f36",
        "colab": {
          "base_uri": "https://localhost:8080/",
          "height": 0
        }
      },
      "source": [
        "notas.columns = [\"usuarioId\", \"filmesId\", \"notas\", \"momento\"]\n",
        "notas.head()"
      ],
      "execution_count": 29,
      "outputs": [
        {
          "output_type": "execute_result",
          "data": {
            "text/html": [
              "<div>\n",
              "<style scoped>\n",
              "    .dataframe tbody tr th:only-of-type {\n",
              "        vertical-align: middle;\n",
              "    }\n",
              "\n",
              "    .dataframe tbody tr th {\n",
              "        vertical-align: top;\n",
              "    }\n",
              "\n",
              "    .dataframe thead th {\n",
              "        text-align: right;\n",
              "    }\n",
              "</style>\n",
              "<table border=\"1\" class=\"dataframe\">\n",
              "  <thead>\n",
              "    <tr style=\"text-align: right;\">\n",
              "      <th></th>\n",
              "      <th>usuarioId</th>\n",
              "      <th>filmesId</th>\n",
              "      <th>notas</th>\n",
              "      <th>momento</th>\n",
              "    </tr>\n",
              "  </thead>\n",
              "  <tbody>\n",
              "    <tr>\n",
              "      <th>0</th>\n",
              "      <td>1</td>\n",
              "      <td>1</td>\n",
              "      <td>4.0</td>\n",
              "      <td>964982703</td>\n",
              "    </tr>\n",
              "    <tr>\n",
              "      <th>1</th>\n",
              "      <td>1</td>\n",
              "      <td>3</td>\n",
              "      <td>4.0</td>\n",
              "      <td>964981247</td>\n",
              "    </tr>\n",
              "    <tr>\n",
              "      <th>2</th>\n",
              "      <td>1</td>\n",
              "      <td>6</td>\n",
              "      <td>4.0</td>\n",
              "      <td>964982224</td>\n",
              "    </tr>\n",
              "    <tr>\n",
              "      <th>3</th>\n",
              "      <td>1</td>\n",
              "      <td>47</td>\n",
              "      <td>5.0</td>\n",
              "      <td>964983815</td>\n",
              "    </tr>\n",
              "    <tr>\n",
              "      <th>4</th>\n",
              "      <td>1</td>\n",
              "      <td>50</td>\n",
              "      <td>5.0</td>\n",
              "      <td>964982931</td>\n",
              "    </tr>\n",
              "  </tbody>\n",
              "</table>\n",
              "</div>"
            ],
            "text/plain": [
              "   usuarioId  filmesId  notas    momento\n",
              "0          1         1    4.0  964982703\n",
              "1          1         3    4.0  964981247\n",
              "2          1         6    4.0  964982224\n",
              "3          1        47    5.0  964983815\n",
              "4          1        50    5.0  964982931"
            ]
          },
          "metadata": {
            "tags": []
          },
          "execution_count": 29
        }
      ]
    },
    {
      "cell_type": "code",
      "metadata": {
        "id": "1ZrY0ZwU3BmC",
        "colab_type": "code",
        "outputId": "c7bdb5fe-9d69-4834-fb17-ac44212f93ac",
        "colab": {
          "base_uri": "https://localhost:8080/",
          "height": 0
        }
      },
      "source": [
        "notas[\"notas\"].unique()"
      ],
      "execution_count": 30,
      "outputs": [
        {
          "output_type": "execute_result",
          "data": {
            "text/plain": [
              "array([4. , 5. , 3. , 2. , 1. , 4.5, 3.5, 2.5, 0.5, 1.5])"
            ]
          },
          "metadata": {
            "tags": []
          },
          "execution_count": 30
        }
      ]
    },
    {
      "cell_type": "code",
      "metadata": {
        "id": "C3gCVix84H94",
        "colab_type": "code",
        "outputId": "0ea041d7-cacb-492b-c8cb-ff0de0cd5ab0",
        "colab": {
          "base_uri": "https://localhost:8080/",
          "height": 0
        }
      },
      "source": [
        "notas[\"notas\"].value_counts()"
      ],
      "execution_count": 31,
      "outputs": [
        {
          "output_type": "execute_result",
          "data": {
            "text/plain": [
              "4.0    26818\n",
              "3.0    20047\n",
              "5.0    13211\n",
              "3.5    13136\n",
              "4.5     8551\n",
              "2.0     7551\n",
              "2.5     5550\n",
              "1.0     2811\n",
              "1.5     1791\n",
              "0.5     1370\n",
              "Name: notas, dtype: int64"
            ]
          },
          "metadata": {
            "tags": []
          },
          "execution_count": 31
        }
      ]
    },
    {
      "cell_type": "code",
      "metadata": {
        "id": "Oh7H2c6hAQ7q",
        "colab_type": "code",
        "outputId": "9da06de4-0494-4b0b-a0ba-fa05a0685693",
        "colab": {
          "base_uri": "https://localhost:8080/",
          "height": 0
        }
      },
      "source": [
        "print(\"Media\" , notas['notas'].mean())\n",
        "print(\"Mediana\" , notas['notas'].median())"
      ],
      "execution_count": 32,
      "outputs": [
        {
          "output_type": "stream",
          "text": [
            "Media 3.501556983616962\n",
            "Mediana 3.5\n"
          ],
          "name": "stdout"
        }
      ]
    },
    {
      "cell_type": "code",
      "metadata": {
        "id": "RwyJldXp470t",
        "colab_type": "code",
        "outputId": "4b062a6c-d07a-4667-e0db-6b642157464e",
        "colab": {
          "base_uri": "https://localhost:8080/",
          "height": 0
        }
      },
      "source": [
        "notas.notas.head()"
      ],
      "execution_count": 33,
      "outputs": [
        {
          "output_type": "execute_result",
          "data": {
            "text/plain": [
              "0    4.0\n",
              "1    4.0\n",
              "2    4.0\n",
              "3    5.0\n",
              "4    5.0\n",
              "Name: notas, dtype: float64"
            ]
          },
          "metadata": {
            "tags": []
          },
          "execution_count": 33
        }
      ]
    },
    {
      "cell_type": "code",
      "metadata": {
        "id": "TdseuNUt5C9m",
        "colab_type": "code",
        "outputId": "044c4d09-4f8d-4d1b-afc7-79eaa3be3f75",
        "colab": {
          "base_uri": "https://localhost:8080/",
          "height": 0
        }
      },
      "source": [
        "notas.notas.plot(kind = 'hist')"
      ],
      "execution_count": 34,
      "outputs": [
        {
          "output_type": "execute_result",
          "data": {
            "text/plain": [
              "<matplotlib.axes._subplots.AxesSubplot at 0x7fcbbbd6c278>"
            ]
          },
          "metadata": {
            "tags": []
          },
          "execution_count": 34
        },
        {
          "output_type": "display_data",
          "data": {
            "image/png": "[encoded data removed]",
            "text/plain": [
              "<Figure size 432x288 with 1 Axes>"
            ]
          },
          "metadata": {
            "tags": []
          }
        }
      ]
    },
    {
      "cell_type": "code",
      "metadata": {
        "id": "1raKRTwb5yjU",
        "colab_type": "code",
        "outputId": "bbd8a570-ede2-4cf7-8a5d-775ba8201d19",
        "colab": {
          "base_uri": "https://localhost:8080/",
          "height": 0
        }
      },
      "source": [
        "notas.notas.describe()"
      ],
      "execution_count": 35,
      "outputs": [
        {
          "output_type": "execute_result",
          "data": {
            "text/plain": [
              "count    100836.000000\n",
              "mean          3.501557\n",
              "std           1.042529\n",
              "min           0.500000\n",
              "25%           3.000000\n",
              "50%           3.500000\n",
              "75%           4.000000\n",
              "max           5.000000\n",
              "Name: notas, dtype: float64"
            ]
          },
          "metadata": {
            "tags": []
          },
          "execution_count": 35
        }
      ]
    },
    {
      "cell_type": "code",
      "metadata": {
        "id": "Jeun7aEPA4Vz",
        "colab_type": "code",
        "colab": {}
      },
      "source": [
        "import seaborn as sns"
      ],
      "execution_count": 0,
      "outputs": []
    },
    {
      "cell_type": "code",
      "metadata": {
        "id": "E8lMmgFQBWcZ",
        "colab_type": "code",
        "outputId": "b5084096-46c0-41e4-ddfc-7b0e848afbfe",
        "colab": {
          "base_uri": "https://localhost:8080/",
          "height": 0
        }
      },
      "source": [
        "sns.boxplot(notas.notas)"
      ],
      "execution_count": 37,
      "outputs": [
        {
          "output_type": "execute_result",
          "data": {
            "text/plain": [
              "<matplotlib.axes._subplots.AxesSubplot at 0x7fcbbbd0eba8>"
            ]
          },
          "metadata": {
            "tags": []
          },
          "execution_count": 37
        },
        {
          "output_type": "display_data",
          "data": {
            "image/png": "[encoded data removed]",
            "text/plain": [
              "<Figure size 432x288 with 1 Axes>"
            ]
          },
          "metadata": {
            "tags": []
          }
        }
      ]
    },
    {
      "cell_type": "markdown",
      "metadata": {
        "id": "EaSzoaeeErD5",
        "colab_type": "text"
      },
      "source": [
        "#Olhando os filmes"
      ]
    },
    {
      "cell_type": "code",
      "metadata": {
        "id": "5gqNEsqjBe6i",
        "colab_type": "code",
        "outputId": "eefe22a1-0afb-417c-bd10-4eac399748cd",
        "colab": {
          "base_uri": "https://localhost:8080/",
          "height": 0
        }
      },
      "source": [
        "filmes = pd.read_csv(\"movies.csv\")\n",
        "filmes.head()"
      ],
      "execution_count": 38,
      "outputs": [
        {
          "output_type": "execute_result",
          "data": {
            "text/html": [
              "<div>\n",
              "<style scoped>\n",
              "    .dataframe tbody tr th:only-of-type {\n",
              "        vertical-align: middle;\n",
              "    }\n",
              "\n",
              "    .dataframe tbody tr th {\n",
              "        vertical-align: top;\n",
              "    }\n",
              "\n",
              "    .dataframe thead th {\n",
              "        text-align: right;\n",
              "    }\n",
              "</style>\n",
              "<table border=\"1\" class=\"dataframe\">\n",
              "  <thead>\n",
              "    <tr style=\"text-align: right;\">\n",
              "      <th></th>\n",
              "      <th>movieId</th>\n",
              "      <th>title</th>\n",
              "      <th>genres</th>\n",
              "    </tr>\n",
              "  </thead>\n",
              "  <tbody>\n",
              "    <tr>\n",
              "      <th>0</th>\n",
              "      <td>1</td>\n",
              "      <td>Toy Story (1995)</td>\n",
              "      <td>Adventure|Animation|Children|Comedy|Fantasy</td>\n",
              "    </tr>\n",
              "    <tr>\n",
              "      <th>1</th>\n",
              "      <td>2</td>\n",
              "      <td>Jumanji (1995)</td>\n",
              "      <td>Adventure|Children|Fantasy</td>\n",
              "    </tr>\n",
              "    <tr>\n",
              "      <th>2</th>\n",
              "      <td>3</td>\n",
              "      <td>Grumpier Old Men (1995)</td>\n",
              "      <td>Comedy|Romance</td>\n",
              "    </tr>\n",
              "    <tr>\n",
              "      <th>3</th>\n",
              "      <td>4</td>\n",
              "      <td>Waiting to Exhale (1995)</td>\n",
              "      <td>Comedy|Drama|Romance</td>\n",
              "    </tr>\n",
              "    <tr>\n",
              "      <th>4</th>\n",
              "      <td>5</td>\n",
              "      <td>Father of the Bride Part II (1995)</td>\n",
              "      <td>Comedy</td>\n",
              "    </tr>\n",
              "  </tbody>\n",
              "</table>\n",
              "</div>"
            ],
            "text/plain": [
              "   movieId  ...                                       genres\n",
              "0        1  ...  Adventure|Animation|Children|Comedy|Fantasy\n",
              "1        2  ...                   Adventure|Children|Fantasy\n",
              "2        3  ...                               Comedy|Romance\n",
              "3        4  ...                         Comedy|Drama|Romance\n",
              "4        5  ...                                       Comedy\n",
              "\n",
              "[5 rows x 3 columns]"
            ]
          },
          "metadata": {
            "tags": []
          },
          "execution_count": 38
        }
      ]
    },
    {
      "cell_type": "code",
      "metadata": {
        "id": "upzzlR0DCx2E",
        "colab_type": "code",
        "outputId": "75934a3b-2f05-4f14-f24f-12f08f2ad9a5",
        "colab": {
          "base_uri": "https://localhost:8080/",
          "height": 0
        }
      },
      "source": [
        "filmes.columns = [\"filmesId\" , \"titulo\" , \"genero\"]\n",
        "filmes.head()"
      ],
      "execution_count": 39,
      "outputs": [
        {
          "output_type": "execute_result",
          "data": {
            "text/html": [
              "<div>\n",
              "<style scoped>\n",
              "    .dataframe tbody tr th:only-of-type {\n",
              "        vertical-align: middle;\n",
              "    }\n",
              "\n",
              "    .dataframe tbody tr th {\n",
              "        vertical-align: top;\n",
              "    }\n",
              "\n",
              "    .dataframe thead th {\n",
              "        text-align: right;\n",
              "    }\n",
              "</style>\n",
              "<table border=\"1\" class=\"dataframe\">\n",
              "  <thead>\n",
              "    <tr style=\"text-align: right;\">\n",
              "      <th></th>\n",
              "      <th>filmesId</th>\n",
              "      <th>titulo</th>\n",
              "      <th>genero</th>\n",
              "    </tr>\n",
              "  </thead>\n",
              "  <tbody>\n",
              "    <tr>\n",
              "      <th>0</th>\n",
              "      <td>1</td>\n",
              "      <td>Toy Story (1995)</td>\n",
              "      <td>Adventure|Animation|Children|Comedy|Fantasy</td>\n",
              "    </tr>\n",
              "    <tr>\n",
              "      <th>1</th>\n",
              "      <td>2</td>\n",
              "      <td>Jumanji (1995)</td>\n",
              "      <td>Adventure|Children|Fantasy</td>\n",
              "    </tr>\n",
              "    <tr>\n",
              "      <th>2</th>\n",
              "      <td>3</td>\n",
              "      <td>Grumpier Old Men (1995)</td>\n",
              "      <td>Comedy|Romance</td>\n",
              "    </tr>\n",
              "    <tr>\n",
              "      <th>3</th>\n",
              "      <td>4</td>\n",
              "      <td>Waiting to Exhale (1995)</td>\n",
              "      <td>Comedy|Drama|Romance</td>\n",
              "    </tr>\n",
              "    <tr>\n",
              "      <th>4</th>\n",
              "      <td>5</td>\n",
              "      <td>Father of the Bride Part II (1995)</td>\n",
              "      <td>Comedy</td>\n",
              "    </tr>\n",
              "  </tbody>\n",
              "</table>\n",
              "</div>"
            ],
            "text/plain": [
              "   filmesId  ...                                       genero\n",
              "0         1  ...  Adventure|Animation|Children|Comedy|Fantasy\n",
              "1         2  ...                   Adventure|Children|Fantasy\n",
              "2         3  ...                               Comedy|Romance\n",
              "3         4  ...                         Comedy|Drama|Romance\n",
              "4         5  ...                                       Comedy\n",
              "\n",
              "[5 rows x 3 columns]"
            ]
          },
          "metadata": {
            "tags": []
          },
          "execution_count": 39
        }
      ]
    },
    {
      "cell_type": "code",
      "metadata": {
        "id": "KwBGoBQZDHlr",
        "colab_type": "code",
        "outputId": "34a9d7b7-9cba-4835-dad4-67b50ad370c2",
        "colab": {
          "base_uri": "https://localhost:8080/",
          "height": 0
        }
      },
      "source": [
        "notas.head()"
      ],
      "execution_count": 40,
      "outputs": [
        {
          "output_type": "execute_result",
          "data": {
            "text/html": [
              "<div>\n",
              "<style scoped>\n",
              "    .dataframe tbody tr th:only-of-type {\n",
              "        vertical-align: middle;\n",
              "    }\n",
              "\n",
              "    .dataframe tbody tr th {\n",
              "        vertical-align: top;\n",
              "    }\n",
              "\n",
              "    .dataframe thead th {\n",
              "        text-align: right;\n",
              "    }\n",
              "</style>\n",
              "<table border=\"1\" class=\"dataframe\">\n",
              "  <thead>\n",
              "    <tr style=\"text-align: right;\">\n",
              "      <th></th>\n",
              "      <th>usuarioId</th>\n",
              "      <th>filmesId</th>\n",
              "      <th>notas</th>\n",
              "      <th>momento</th>\n",
              "    </tr>\n",
              "  </thead>\n",
              "  <tbody>\n",
              "    <tr>\n",
              "      <th>0</th>\n",
              "      <td>1</td>\n",
              "      <td>1</td>\n",
              "      <td>4.0</td>\n",
              "      <td>964982703</td>\n",
              "    </tr>\n",
              "    <tr>\n",
              "      <th>1</th>\n",
              "      <td>1</td>\n",
              "      <td>3</td>\n",
              "      <td>4.0</td>\n",
              "      <td>964981247</td>\n",
              "    </tr>\n",
              "    <tr>\n",
              "      <th>2</th>\n",
              "      <td>1</td>\n",
              "      <td>6</td>\n",
              "      <td>4.0</td>\n",
              "      <td>964982224</td>\n",
              "    </tr>\n",
              "    <tr>\n",
              "      <th>3</th>\n",
              "      <td>1</td>\n",
              "      <td>47</td>\n",
              "      <td>5.0</td>\n",
              "      <td>964983815</td>\n",
              "    </tr>\n",
              "    <tr>\n",
              "      <th>4</th>\n",
              "      <td>1</td>\n",
              "      <td>50</td>\n",
              "      <td>5.0</td>\n",
              "      <td>964982931</td>\n",
              "    </tr>\n",
              "  </tbody>\n",
              "</table>\n",
              "</div>"
            ],
            "text/plain": [
              "   usuarioId  filmesId  notas    momento\n",
              "0          1         1    4.0  964982703\n",
              "1          1         3    4.0  964981247\n",
              "2          1         6    4.0  964982224\n",
              "3          1        47    5.0  964983815\n",
              "4          1        50    5.0  964982931"
            ]
          },
          "metadata": {
            "tags": []
          },
          "execution_count": 40
        }
      ]
    },
    {
      "cell_type": "markdown",
      "metadata": {
        "id": "VJd0yKAXESMI",
        "colab_type": "text"
      },
      "source": [
        "# Analisando algumas notas em especifico por filmes "
      ]
    },
    {
      "cell_type": "code",
      "metadata": {
        "id": "hsb0Dc7mDW6j",
        "colab_type": "code",
        "outputId": "d34d8dcf-0bb7-4ebb-e1a1-1a723dc661ef",
        "colab": {
          "base_uri": "https://localhost:8080/",
          "height": 0
        }
      },
      "source": [
        "notas.query(\"filmesId==1\").notas.mean()"
      ],
      "execution_count": 41,
      "outputs": [
        {
          "output_type": "execute_result",
          "data": {
            "text/plain": [
              "3.9209302325581397"
            ]
          },
          "metadata": {
            "tags": []
          },
          "execution_count": 41
        }
      ]
    },
    {
      "cell_type": "code",
      "metadata": {
        "id": "C-C_m22ADpnE",
        "colab_type": "code",
        "outputId": "eaf25525-0f07-47b8-b148-5ad562b23ee8",
        "colab": {
          "base_uri": "https://localhost:8080/",
          "height": 0
        }
      },
      "source": [
        "medias_por_filme = notas.groupby(\"filmesId\").mean()[\"notas\"]\n",
        "medias_por_filme.head()"
      ],
      "execution_count": 42,
      "outputs": [
        {
          "output_type": "execute_result",
          "data": {
            "text/plain": [
              "filmesId\n",
              "1    3.920930\n",
              "2    3.431818\n",
              "3    3.259615\n",
              "4    2.357143\n",
              "5    3.071429\n",
              "Name: notas, dtype: float64"
            ]
          },
          "metadata": {
            "tags": []
          },
          "execution_count": 42
        }
      ]
    },
    {
      "cell_type": "code",
      "metadata": {
        "id": "D4krVYVVFDf-",
        "colab_type": "code",
        "outputId": "0ee8c600-f1ff-47df-d949-0a0711fb5035",
        "colab": {
          "base_uri": "https://localhost:8080/",
          "height": 0
        }
      },
      "source": [
        "medias_por_filme.plot(kind = 'hist')"
      ],
      "execution_count": 43,
      "outputs": [
        {
          "output_type": "execute_result",
          "data": {
            "text/plain": [
              "<matplotlib.axes._subplots.AxesSubplot at 0x7fcbbbc66390>"
            ]
          },
          "metadata": {
            "tags": []
          },
          "execution_count": 43
        },
        {
          "output_type": "display_data",
          "data": {
            "image/png": "[encoded data removed]",
            "text/plain": [
              "<Figure size 432x288 with 1 Axes>"
            ]
          },
          "metadata": {
            "tags": []
          }
        }
      ]
    },
    {
      "cell_type": "code",
      "metadata": {
        "id": "Zq-0SBQeGJja",
        "colab_type": "code",
        "outputId": "a62785e1-7228-480d-dca2-992d4881d3fb",
        "colab": {
          "base_uri": "https://localhost:8080/",
          "height": 0
        }
      },
      "source": [
        "import matplotlib.pyplot as plt\n",
        "\n",
        "plt.figure(figsize=(5,8))\n",
        "sns.boxplot(y=medias_por_filme)\n",
        "\n"
      ],
      "execution_count": 44,
      "outputs": [
        {
          "output_type": "execute_result",
          "data": {
            "text/plain": [
              "<matplotlib.axes._subplots.AxesSubplot at 0x7fcbbbb31860>"
            ]
          },
          "metadata": {
            "tags": []
          },
          "execution_count": 44
        },
        {
          "output_type": "display_data",
          "data": {
            "image/png": "[encoded data removed]",
            "text/plain": [
              "<Figure size 360x576 with 1 Axes>"
            ]
          },
          "metadata": {
            "tags": []
          }
        }
      ]
    },
    {
      "cell_type": "code",
      "metadata": {
        "id": "d9UtjvuFGVs-",
        "colab_type": "code",
        "outputId": "87d7a167-1777-4478-ab41-fef4e32ceae2",
        "colab": {
          "base_uri": "https://localhost:8080/",
          "height": 0
        }
      },
      "source": [
        "medias_por_filme.describe()"
      ],
      "execution_count": 45,
      "outputs": [
        {
          "output_type": "execute_result",
          "data": {
            "text/plain": [
              "count    9724.000000\n",
              "mean        3.262448\n",
              "std         0.869874\n",
              "min         0.500000\n",
              "25%         2.800000\n",
              "50%         3.416667\n",
              "75%         3.911765\n",
              "max         5.000000\n",
              "Name: notas, dtype: float64"
            ]
          },
          "metadata": {
            "tags": []
          },
          "execution_count": 45
        }
      ]
    },
    {
      "cell_type": "code",
      "metadata": {
        "id": "WlzDHEQpGc11",
        "colab_type": "code",
        "outputId": "4f083e1c-5adb-4954-865b-fca5b78636be",
        "colab": {
          "base_uri": "https://localhost:8080/",
          "height": 0
        }
      },
      "source": [
        "sns.distplot(medias_por_filme)"
      ],
      "execution_count": 46,
      "outputs": [
        {
          "output_type": "execute_result",
          "data": {
            "text/plain": [
              "<matplotlib.axes._subplots.AxesSubplot at 0x7fcbbbaf8ef0>"
            ]
          },
          "metadata": {
            "tags": []
          },
          "execution_count": 46
        },
        {
          "output_type": "display_data",
          "data": {
            "image/png": "[encoded data removed]",
            "text/plain": [
              "<Figure size 432x288 with 1 Axes>"
            ]
          },
          "metadata": {
            "tags": []
          }
        }
      ]
    },
    {
      "cell_type": "code",
      "metadata": {
        "id": "nKEAW1A8GmOg",
        "colab_type": "code",
        "outputId": "8d3c15a4-a959-4e35-bcb7-675c242c9dd0",
        "colab": {
          "base_uri": "https://localhost:8080/",
          "height": 0
        }
      },
      "source": [
        "import matplotlib.pyplot as plt\n",
        "\n",
        "plt.hist(medias_por_filme)\n",
        "plt.title(\"Histograma das medias dos filmes\")"
      ],
      "execution_count": 47,
      "outputs": [
        {
          "output_type": "execute_result",
          "data": {
            "text/plain": [
              "Text(0.5, 1.0, 'Histograma das medias dos filmes')"
            ]
          },
          "metadata": {
            "tags": []
          },
          "execution_count": 47
        },
        {
          "output_type": "display_data",
          "data": {
            "image/png": "[encoded data removed]",
            "text/plain": [
              "<Figure size 432x288 with 1 Axes>"
            ]
          },
          "metadata": {
            "tags": []
          }
        }
      ]
    },
    {
      "cell_type": "markdown",
      "metadata": {
        "id": "UlGFBTKyuJyY",
        "colab_type": "text"
      },
      "source": [
        "#TMDB - Filmes"
      ]
    },
    {
      "cell_type": "code",
      "metadata": {
        "id": "q7OqrRYqHSjC",
        "colab_type": "code",
        "outputId": "b60bb358-f834-4d16-ea3d-c3a6bec53878",
        "colab": {
          "base_uri": "https://localhost:8080/",
          "height": 617
        }
      },
      "source": [
        "tmdb = pd.read_csv(\"tmdb_5000_movies.csv\")\n",
        "tmdb.head()"
      ],
      "execution_count": 48,
      "outputs": [
        {
          "output_type": "execute_result",
          "data": {
            "text/html": [
              "<div>\n",
              "<style scoped>\n",
              "    .dataframe tbody tr th:only-of-type {\n",
              "        vertical-align: middle;\n",
              "    }\n",
              "\n",
              "    .dataframe tbody tr th {\n",
              "        vertical-align: top;\n",
              "    }\n",
              "\n",
              "    .dataframe thead th {\n",
              "        text-align: right;\n",
              "    }\n",
              "</style>\n",
              "<table border=\"1\" class=\"dataframe\">\n",
              "  <thead>\n",
              "    <tr style=\"text-align: right;\">\n",
              "      <th></th>\n",
              "      <th>budget</th>\n",
              "      <th>genres</th>\n",
              "      <th>homepage</th>\n",
              "      <th>id</th>\n",
              "      <th>keywords</th>\n",
              "      <th>original_language</th>\n",
              "      <th>original_title</th>\n",
              "      <th>overview</th>\n",
              "      <th>popularity</th>\n",
              "      <th>production_companies</th>\n",
              "      <th>production_countries</th>\n",
              "      <th>release_date</th>\n",
              "      <th>revenue</th>\n",
              "      <th>runtime</th>\n",
              "      <th>spoken_languages</th>\n",
              "      <th>status</th>\n",
              "      <th>tagline</th>\n",
              "      <th>title</th>\n",
              "      <th>vote_average</th>\n",
              "      <th>vote_count</th>\n",
              "    </tr>\n",
              "  </thead>\n",
              "  <tbody>\n",
              "    <tr>\n",
              "      <th>0</th>\n",
              "      <td>237000000</td>\n",
              "      <td>[{\"id\": 28, \"name\": \"Action\"}, {\"id\": 12, \"nam...</td>\n",
              "      <td>http://www.avatarmovie.com/</td>\n",
              "      <td>19995</td>\n",
              "      <td>[{\"id\": 1463, \"name\": \"culture clash\"}, {\"id\":...</td>\n",
              "      <td>en</td>\n",
              "      <td>Avatar</td>\n",
              "      <td>In the 22nd century, a paraplegic Marine is di...</td>\n",
              "      <td>150.437577</td>\n",
              "      <td>[{\"name\": \"Ingenious Film Partners\", \"id\": 289...</td>\n",
              "      <td>[{\"iso_3166_1\": \"US\", \"name\": \"United States o...</td>\n",
              "      <td>2009-12-10</td>\n",
              "      <td>2787965087</td>\n",
              "      <td>162.0</td>\n",
              "      <td>[{\"iso_639_1\": \"en\", \"name\": \"English\"}, {\"iso...</td>\n",
              "      <td>Released</td>\n",
              "      <td>Enter the World of Pandora.</td>\n",
              "      <td>Avatar</td>\n",
              "      <td>7.2</td>\n",
              "      <td>11800</td>\n",
              "    </tr>\n",
              "    <tr>\n",
              "      <th>1</th>\n",
              "      <td>300000000</td>\n",
              "      <td>[{\"id\": 12, \"name\": \"Adventure\"}, {\"id\": 14, \"...</td>\n",
              "      <td>http://disney.go.com/disneypictures/pirates/</td>\n",
              "      <td>285</td>\n",
              "      <td>[{\"id\": 270, \"name\": \"ocean\"}, {\"id\": 726, \"na...</td>\n",
              "      <td>en</td>\n",
              "      <td>Pirates of the Caribbean: At World's End</td>\n",
              "      <td>Captain Barbossa, long believed to be dead, ha...</td>\n",
              "      <td>139.082615</td>\n",
              "      <td>[{\"name\": \"Walt Disney Pictures\", \"id\": 2}, {\"...</td>\n",
              "      <td>[{\"iso_3166_1\": \"US\", \"name\": \"United States o...</td>\n",
              "      <td>2007-05-19</td>\n",
              "      <td>961000000</td>\n",
              "      <td>169.0</td>\n",
              "      <td>[{\"iso_639_1\": \"en\", \"name\": \"English\"}]</td>\n",
              "      <td>Released</td>\n",
              "      <td>At the end of the world, the adventure begins.</td>\n",
              "      <td>Pirates of the Caribbean: At World's End</td>\n",
              "      <td>6.9</td>\n",
              "      <td>4500</td>\n",
              "    </tr>\n",
              "    <tr>\n",
              "      <th>2</th>\n",
              "      <td>245000000</td>\n",
              "      <td>[{\"id\": 28, \"name\": \"Action\"}, {\"id\": 12, \"nam...</td>\n",
              "      <td>http://www.sonypictures.com/movies/spectre/</td>\n",
              "      <td>206647</td>\n",
              "      <td>[{\"id\": 470, \"name\": \"spy\"}, {\"id\": 818, \"name...</td>\n",
              "      <td>en</td>\n",
              "      <td>Spectre</td>\n",
              "      <td>A cryptic message from Bond’s past sends him o...</td>\n",
              "      <td>107.376788</td>\n",
              "      <td>[{\"name\": \"Columbia Pictures\", \"id\": 5}, {\"nam...</td>\n",
              "      <td>[{\"iso_3166_1\": \"GB\", \"name\": \"United Kingdom\"...</td>\n",
              "      <td>2015-10-26</td>\n",
              "      <td>880674609</td>\n",
              "      <td>148.0</td>\n",
              "      <td>[{\"iso_639_1\": \"fr\", \"name\": \"Fran\\u00e7ais\"},...</td>\n",
              "      <td>Released</td>\n",
              "      <td>A Plan No One Escapes</td>\n",
              "      <td>Spectre</td>\n",
              "      <td>6.3</td>\n",
              "      <td>4466</td>\n",
              "    </tr>\n",
              "    <tr>\n",
              "      <th>3</th>\n",
              "      <td>250000000</td>\n",
              "      <td>[{\"id\": 28, \"name\": \"Action\"}, {\"id\": 80, \"nam...</td>\n",
              "      <td>http://www.thedarkknightrises.com/</td>\n",
              "      <td>49026</td>\n",
              "      <td>[{\"id\": 849, \"name\": \"dc comics\"}, {\"id\": 853,...</td>\n",
              "      <td>en</td>\n",
              "      <td>The Dark Knight Rises</td>\n",
              "      <td>Following the death of District Attorney Harve...</td>\n",
              "      <td>112.312950</td>\n",
              "      <td>[{\"name\": \"Legendary Pictures\", \"id\": 923}, {\"...</td>\n",
              "      <td>[{\"iso_3166_1\": \"US\", \"name\": \"United States o...</td>\n",
              "      <td>2012-07-16</td>\n",
              "      <td>1084939099</td>\n",
              "      <td>165.0</td>\n",
              "      <td>[{\"iso_639_1\": \"en\", \"name\": \"English\"}]</td>\n",
              "      <td>Released</td>\n",
              "      <td>The Legend Ends</td>\n",
              "      <td>The Dark Knight Rises</td>\n",
              "      <td>7.6</td>\n",
              "      <td>9106</td>\n",
              "    </tr>\n",
              "    <tr>\n",
              "      <th>4</th>\n",
              "      <td>260000000</td>\n",
              "      <td>[{\"id\": 28, \"name\": \"Action\"}, {\"id\": 12, \"nam...</td>\n",
              "      <td>http://movies.disney.com/john-carter</td>\n",
              "      <td>49529</td>\n",
              "      <td>[{\"id\": 818, \"name\": \"based on novel\"}, {\"id\":...</td>\n",
              "      <td>en</td>\n",
              "      <td>John Carter</td>\n",
              "      <td>John Carter is a war-weary, former military ca...</td>\n",
              "      <td>43.926995</td>\n",
              "      <td>[{\"name\": \"Walt Disney Pictures\", \"id\": 2}]</td>\n",
              "      <td>[{\"iso_3166_1\": \"US\", \"name\": \"United States o...</td>\n",
              "      <td>2012-03-07</td>\n",
              "      <td>284139100</td>\n",
              "      <td>132.0</td>\n",
              "      <td>[{\"iso_639_1\": \"en\", \"name\": \"English\"}]</td>\n",
              "      <td>Released</td>\n",
              "      <td>Lost in our world, found in another.</td>\n",
              "      <td>John Carter</td>\n",
              "      <td>6.1</td>\n",
              "      <td>2124</td>\n",
              "    </tr>\n",
              "  </tbody>\n",
              "</table>\n",
              "</div>"
            ],
            "text/plain": [
              "      budget  ... vote_count\n",
              "0  237000000  ...      11800\n",
              "1  300000000  ...       4500\n",
              "2  245000000  ...       4466\n",
              "3  250000000  ...       9106\n",
              "4  260000000  ...       2124\n",
              "\n",
              "[5 rows x 20 columns]"
            ]
          },
          "metadata": {
            "tags": []
          },
          "execution_count": 48
        }
      ]
    },
    {
      "cell_type": "code",
      "metadata": {
        "id": "mSie3Bpdt4rm",
        "colab_type": "code",
        "outputId": "863486b8-07ef-4e60-bd52-a8c79f06ee72",
        "colab": {
          "base_uri": "https://localhost:8080/",
          "height": 82
        }
      },
      "source": [
        "tmdb.original_language.unique() # categorica nominal"
      ],
      "execution_count": 49,
      "outputs": [
        {
          "output_type": "execute_result",
          "data": {
            "text/plain": [
              "array(['en', 'ja', 'fr', 'zh', 'es', 'de', 'hi', 'ru', 'ko', 'te', 'cn',\n",
              "       'it', 'nl', 'ta', 'sv', 'th', 'da', 'xx', 'hu', 'cs', 'pt', 'is',\n",
              "       'tr', 'nb', 'af', 'pl', 'he', 'ar', 'vi', 'ky', 'id', 'ro', 'fa',\n",
              "       'no', 'sl', 'ps', 'el'], dtype=object)"
            ]
          },
          "metadata": {
            "tags": []
          },
          "execution_count": 49
        }
      ]
    },
    {
      "cell_type": "code",
      "metadata": {
        "id": "ickPWryUub60",
        "colab_type": "code",
        "outputId": "51558ba5-e878-4371-c7de-114a86b7b129",
        "colab": {
          "base_uri": "https://localhost:8080/",
          "height": 98
        }
      },
      "source": [
        "tmdb.original_language.value_counts().index"
      ],
      "execution_count": 50,
      "outputs": [
        {
          "output_type": "execute_result",
          "data": {
            "text/plain": [
              "Index(['en', 'fr', 'es', 'de', 'zh', 'hi', 'ja', 'it', 'cn', 'ru', 'ko', 'pt',\n",
              "       'da', 'sv', 'fa', 'nl', 'th', 'he', 'ta', 'cs', 'ro', 'id', 'ar', 'te',\n",
              "       'sl', 'vi', 'pl', 'af', 'nb', 'no', 'ky', 'ps', 'xx', 'el', 'tr', 'hu',\n",
              "       'is'],\n",
              "      dtype='object')"
            ]
          },
          "metadata": {
            "tags": []
          },
          "execution_count": 50
        }
      ]
    },
    {
      "cell_type": "code",
      "metadata": {
        "id": "_ettM5HkxvMk",
        "colab_type": "code",
        "outputId": "a477d1c6-7295-4652-f71b-9cbea0778353",
        "colab": {
          "base_uri": "https://localhost:8080/",
          "height": 82
        }
      },
      "source": [
        "tmdb.original_language.value_counts().values"
      ],
      "execution_count": 51,
      "outputs": [
        {
          "output_type": "execute_result",
          "data": {
            "text/plain": [
              "array([4505,   70,   32,   27,   27,   19,   16,   14,   12,   11,   11,\n",
              "          9,    7,    5,    4,    4,    3,    3,    2,    2,    2,    2,\n",
              "          2,    1,    1,    1,    1,    1,    1,    1,    1,    1,    1,\n",
              "          1,    1,    1,    1])"
            ]
          },
          "metadata": {
            "tags": []
          },
          "execution_count": 51
        }
      ]
    },
    {
      "cell_type": "code",
      "metadata": {
        "id": "FSOFCqs5x-6p",
        "colab_type": "code",
        "outputId": "6839c2cd-d0bf-425a-9940-1596fbef609f",
        "colab": {
          "base_uri": "https://localhost:8080/",
          "height": 635
        }
      },
      "source": [
        "tmdb.original_language.value_counts()"
      ],
      "execution_count": 52,
      "outputs": [
        {
          "output_type": "execute_result",
          "data": {
            "text/plain": [
              "en    4505\n",
              "fr      70\n",
              "es      32\n",
              "de      27\n",
              "zh      27\n",
              "hi      19\n",
              "ja      16\n",
              "it      14\n",
              "cn      12\n",
              "ru      11\n",
              "ko      11\n",
              "pt       9\n",
              "da       7\n",
              "sv       5\n",
              "fa       4\n",
              "nl       4\n",
              "th       3\n",
              "he       3\n",
              "ta       2\n",
              "cs       2\n",
              "ro       2\n",
              "id       2\n",
              "ar       2\n",
              "te       1\n",
              "sl       1\n",
              "vi       1\n",
              "pl       1\n",
              "af       1\n",
              "nb       1\n",
              "no       1\n",
              "ky       1\n",
              "ps       1\n",
              "xx       1\n",
              "el       1\n",
              "tr       1\n",
              "hu       1\n",
              "is       1\n",
              "Name: original_language, dtype: int64"
            ]
          },
          "metadata": {
            "tags": []
          },
          "execution_count": 52
        }
      ]
    },
    {
      "cell_type": "code",
      "metadata": {
        "id": "Beg9329WyCeI",
        "colab_type": "code",
        "outputId": "7f177164-c362-4738-f4b6-234a98f2eec1",
        "colab": {
          "base_uri": "https://localhost:8080/",
          "height": 191
        }
      },
      "source": [
        "contagem_de_lingua = tmdb.original_language.value_counts().to_frame().reset_index()\n",
        "contagem_de_lingua.columns = [\"original_language\" , \"total\"]\n",
        "contagem_de_lingua.head()"
      ],
      "execution_count": 53,
      "outputs": [
        {
          "output_type": "execute_result",
          "data": {
            "text/html": [
              "<div>\n",
              "<style scoped>\n",
              "    .dataframe tbody tr th:only-of-type {\n",
              "        vertical-align: middle;\n",
              "    }\n",
              "\n",
              "    .dataframe tbody tr th {\n",
              "        vertical-align: top;\n",
              "    }\n",
              "\n",
              "    .dataframe thead th {\n",
              "        text-align: right;\n",
              "    }\n",
              "</style>\n",
              "<table border=\"1\" class=\"dataframe\">\n",
              "  <thead>\n",
              "    <tr style=\"text-align: right;\">\n",
              "      <th></th>\n",
              "      <th>original_language</th>\n",
              "      <th>total</th>\n",
              "    </tr>\n",
              "  </thead>\n",
              "  <tbody>\n",
              "    <tr>\n",
              "      <th>0</th>\n",
              "      <td>en</td>\n",
              "      <td>4505</td>\n",
              "    </tr>\n",
              "    <tr>\n",
              "      <th>1</th>\n",
              "      <td>fr</td>\n",
              "      <td>70</td>\n",
              "    </tr>\n",
              "    <tr>\n",
              "      <th>2</th>\n",
              "      <td>es</td>\n",
              "      <td>32</td>\n",
              "    </tr>\n",
              "    <tr>\n",
              "      <th>3</th>\n",
              "      <td>de</td>\n",
              "      <td>27</td>\n",
              "    </tr>\n",
              "    <tr>\n",
              "      <th>4</th>\n",
              "      <td>zh</td>\n",
              "      <td>27</td>\n",
              "    </tr>\n",
              "  </tbody>\n",
              "</table>\n",
              "</div>"
            ],
            "text/plain": [
              "  original_language  total\n",
              "0                en   4505\n",
              "1                fr     70\n",
              "2                es     32\n",
              "3                de     27\n",
              "4                zh     27"
            ]
          },
          "metadata": {
            "tags": []
          },
          "execution_count": 53
        }
      ]
    },
    {
      "cell_type": "code",
      "metadata": {
        "id": "MsgxI77ryGCW",
        "colab_type": "code",
        "outputId": "7764386c-80ec-4748-fdb6-fd56fa94cb52",
        "colab": {
          "base_uri": "https://localhost:8080/",
          "height": 296
        }
      },
      "source": [
        "sns.barplot(x = \"original_language\" , y = \"total\" , data = contagem_de_lingua)"
      ],
      "execution_count": 54,
      "outputs": [
        {
          "output_type": "execute_result",
          "data": {
            "text/plain": [
              "<matplotlib.axes._subplots.AxesSubplot at 0x7fcbbb4e3cc0>"
            ]
          },
          "metadata": {
            "tags": []
          },
          "execution_count": 54
        },
        {
          "output_type": "display_data",
          "data": {
            "image/png": "[encoded data removed]",
            "text/plain": [
              "<Figure size 432x288 with 1 Axes>"
            ]
          },
          "metadata": {
            "tags": []
          }
        }
      ]
    },
    {
      "cell_type": "code",
      "metadata": {
        "id": "JcZVWHqiy0WQ",
        "colab_type": "code",
        "outputId": "b3390e5c-222e-415a-c6bf-7f4b2d5056e6",
        "colab": {
          "base_uri": "https://localhost:8080/",
          "height": 385
        }
      },
      "source": [
        "sns.catplot(x = \"original_language\", kind=\"count\", data = tmdb)"
      ],
      "execution_count": 55,
      "outputs": [
        {
          "output_type": "execute_result",
          "data": {
            "text/plain": [
              "<seaborn.axisgrid.FacetGrid at 0x7fcbbb4b8128>"
            ]
          },
          "metadata": {
            "tags": []
          },
          "execution_count": 55
        },
        {
          "output_type": "display_data",
          "data": {
            "image/png": "[encoded data removed]",
            "text/plain": [
              "<Figure size 360x360 with 1 Axes>"
            ]
          },
          "metadata": {
            "tags": []
          }
        }
      ]
    },
    {
      "cell_type": "code",
      "metadata": {
        "id": "DtLMAgklztzs",
        "colab_type": "code",
        "outputId": "5c4c8187-3e6e-4672-c3fa-53fa2c89e509",
        "colab": {
          "base_uri": "https://localhost:8080/",
          "height": 1000
        }
      },
      "source": [
        "plt.pie(contagem_de_lingua[\"total\"], labels = contagem_de_lingua[\"original_language\"])"
      ],
      "execution_count": 56,
      "outputs": [
        {
          "output_type": "execute_result",
          "data": {
            "text/plain": [
              "([<matplotlib.patches.Wedge at 0x7fcbb8a29320>,\n",
              "  <matplotlib.patches.Wedge at 0x7fcbb8a297f0>,\n",
              "  <matplotlib.patches.Wedge at 0x7fcbb8a29c88>,\n",
              "  <matplotlib.patches.Wedge at 0x7fcbb8a31160>,\n",
              "  <matplotlib.patches.Wedge at 0x7fcbb8a315f8>,\n",
              "  <matplotlib.patches.Wedge at 0x7fcbb8a31a90>,\n",
              "  <matplotlib.patches.Wedge at 0x7fcbb8a31f28>,\n",
              "  <matplotlib.patches.Wedge at 0x7fcbb8a42400>,\n",
              "  <matplotlib.patches.Wedge at 0x7fcbb8a42898>,\n",
              "  <matplotlib.patches.Wedge at 0x7fcbb8a42d30>,\n",
              "  <matplotlib.patches.Wedge at 0x7fcbbb32beb8>,\n",
              "  <matplotlib.patches.Wedge at 0x7fcbb8a4f668>,\n",
              "  <matplotlib.patches.Wedge at 0x7fcbb8a4fb00>,\n",
              "  <matplotlib.patches.Wedge at 0x7fcbb8a4ff98>,\n",
              "  <matplotlib.patches.Wedge at 0x7fcbb8a5b470>,\n",
              "  <matplotlib.patches.Wedge at 0x7fcbb8a5b908>,\n",
              "  <matplotlib.patches.Wedge at 0x7fcbb8a5bda0>,\n",
              "  <matplotlib.patches.Wedge at 0x7fcbb89e7278>,\n",
              "  <matplotlib.patches.Wedge at 0x7fcbb89e7710>,\n",
              "  <matplotlib.patches.Wedge at 0x7fcbb89e7ba8>,\n",
              "  <matplotlib.patches.Wedge at 0x7fcbb89f4080>,\n",
              "  <matplotlib.patches.Wedge at 0x7fcbb89f4518>,\n",
              "  <matplotlib.patches.Wedge at 0x7fcbb89f49b0>,\n",
              "  <matplotlib.patches.Wedge at 0x7fcbb89f4e48>,\n",
              "  <matplotlib.patches.Wedge at 0x7fcbb8a02320>,\n",
              "  <matplotlib.patches.Wedge at 0x7fcbb8a027b8>,\n",
              "  <matplotlib.patches.Wedge at 0x7fcbb8a02c50>,\n",
              "  <matplotlib.patches.Wedge at 0x7fcbb8a10128>,\n",
              "  <matplotlib.patches.Wedge at 0x7fcbb8a105c0>,\n",
              "  <matplotlib.patches.Wedge at 0x7fcbb8a10a58>,\n",
              "  <matplotlib.patches.Wedge at 0x7fcbb8a10ef0>,\n",
              "  <matplotlib.patches.Wedge at 0x7fcbb8a1d3c8>,\n",
              "  <matplotlib.patches.Wedge at 0x7fcbb8a1d860>,\n",
              "  <matplotlib.patches.Wedge at 0x7fcbb8a1dcf8>,\n",
              "  <matplotlib.patches.Wedge at 0x7fcbb89a91d0>,\n",
              "  <matplotlib.patches.Wedge at 0x7fcbb89a9668>,\n",
              "  <matplotlib.patches.Wedge at 0x7fcbb89a9b00>],\n",
              " [Text(-1.0791697536499925, 0.2130554923183512, 'en'),\n",
              "  Text(1.0355355017029462, -0.3710339940124459, 'fr'),\n",
              "  Text(1.0579676486019882, -0.3011718023181785, 'es'),\n",
              "  Text(1.0687996606645356, -0.26012936274741094, 'de'),\n",
              "  Text(1.0773191105706255, -0.22222406260195313, 'zh'),\n",
              "  Text(1.0835167978583342, -0.18971386021801853, 'hi'),\n",
              "  Text(1.0875756432724297, -0.16486121484618815, 'ja'),\n",
              "  Text(1.0906010773146022, -0.14348968659882622, 'it'),\n",
              "  Text(1.092883487371409, -0.12492270822755745, 'cn'),\n",
              "  Text(1.0946390911069936, -0.10846778425161549, 'ru'),\n",
              "  Text(1.0960865535188649, -0.09270527058984593, 'ko'),\n",
              "  Text(1.0972054830031333, -0.07835896928789601, 'pt'),\n",
              "  Text(1.097965443340663, -0.06687215586282344, 'da'),\n",
              "  Text(1.0984565010300316, -0.05825217030171998, 'sv'),\n",
              "  Text(1.0987803851616647, -0.0517847968421653, 'fa'),\n",
              "  Text(1.0990363161210686, -0.04603450713357274, 'nl'),\n",
              "  Text(1.0992355702663055, -0.04100196411527794, 'th'),\n",
              "  Text(1.0993880184234357, -0.03668766750546649, 'he'),\n",
              "  Text(1.0995021239019234, -0.033091985965784415, 'ta'),\n",
              "  Text(1.099584941078101, -0.03021518416739545, 'cs'),\n",
              "  Text(1.0996602312343366, -0.027338175536150495, 'ro'),\n",
              "  Text(1.099727993855245, -0.024460979766119193, 'id'),\n",
              "  Text(1.0997882284769684, -0.02158361655264929, 'ar'),\n",
              "  Text(1.0998284639438185, -0.01942549610642471, 'te'),\n",
              "  Text(1.0998529348820232, -0.01798670707495573, 'sl'),\n",
              "  Text(1.0998755236058106, -0.01654788726224571, 'vi'),\n",
              "  Text(1.0998962300765243, -0.01510903913059323, 'pl'),\n",
              "  Text(1.0999150542587282, -0.013670165142345335, 'af'),\n",
              "  Text(1.0999319961202083, -0.012231267759896247, 'nb'),\n",
              "  Text(1.0999470556319713, -0.01079234944567632, 'no'),\n",
              "  Text(1.099960232768245, -0.00935341266215563, 'ky'),\n",
              "  Text(1.0999715275064792, -0.007914459871831963, 'ps'),\n",
              "  Text(1.0999809398273452, -0.006475493537234394, 'xx'),\n",
              "  Text(1.0999884697147349, -0.005036516120911278, 'el'),\n",
              "  Text(1.0999941171557621, -0.0035975300854338356, 'tr'),\n",
              "  Text(1.0999978821407626, -0.0021585378933851127, 'hu'),\n",
              "  Text(1.0999997646632929, -0.0007195420073586872, 'is')])"
            ]
          },
          "metadata": {
            "tags": []
          },
          "execution_count": 56
        },
        {
          "output_type": "display_data",
          "data": {
            "image/png": "[encoded data removed]",
            "text/plain": [
              "<Figure size 432x288 with 1 Axes>"
            ]
          },
          "metadata": {
            "tags": []
          }
        }
      ]
    },
    {
      "cell_type": "code",
      "metadata": {
        "id": "yucWmUwy2Kx3",
        "colab_type": "code",
        "outputId": "7df9c9dc-060c-4404-ae6c-a58b5beb133d",
        "colab": {
          "base_uri": "https://localhost:8080/",
          "height": 33
        }
      },
      "source": [
        "total_por_lingua = tmdb.original_language.value_counts()\n",
        "total_geral = total_por_lingua.sum()\n",
        "total_de_ingles = total_por_lingua.loc[\"en\"]\n",
        "total_do_resto = total_geral - total_de_ingles\n",
        "print(total_do_resto, total_de_ingles)"
      ],
      "execution_count": 57,
      "outputs": [
        {
          "output_type": "stream",
          "text": [
            "298 4505\n"
          ],
          "name": "stdout"
        }
      ]
    },
    {
      "cell_type": "code",
      "metadata": {
        "id": "Y3wAzlXs20Lj",
        "colab_type": "code",
        "colab": {}
      },
      "source": [
        "dados = {\n",
        "    'lingua' : ['ingles' , 'outros'],\n",
        "    'total' : [total_de_ingles, total_do_resto]\n",
        "}\n",
        "dados = pd.DataFrame(dados)"
      ],
      "execution_count": 0,
      "outputs": []
    },
    {
      "cell_type": "code",
      "metadata": {
        "id": "MdsFFGk_30DE",
        "colab_type": "code",
        "outputId": "722be134-d3f1-46d3-80c0-be7d330ef02f",
        "colab": {
          "base_uri": "https://localhost:8080/",
          "height": 105
        }
      },
      "source": [
        "dados"
      ],
      "execution_count": 59,
      "outputs": [
        {
          "output_type": "execute_result",
          "data": {
            "text/html": [
              "<div>\n",
              "<style scoped>\n",
              "    .dataframe tbody tr th:only-of-type {\n",
              "        vertical-align: middle;\n",
              "    }\n",
              "\n",
              "    .dataframe tbody tr th {\n",
              "        vertical-align: top;\n",
              "    }\n",
              "\n",
              "    .dataframe thead th {\n",
              "        text-align: right;\n",
              "    }\n",
              "</style>\n",
              "<table border=\"1\" class=\"dataframe\">\n",
              "  <thead>\n",
              "    <tr style=\"text-align: right;\">\n",
              "      <th></th>\n",
              "      <th>lingua</th>\n",
              "      <th>total</th>\n",
              "    </tr>\n",
              "  </thead>\n",
              "  <tbody>\n",
              "    <tr>\n",
              "      <th>0</th>\n",
              "      <td>ingles</td>\n",
              "      <td>4505</td>\n",
              "    </tr>\n",
              "    <tr>\n",
              "      <th>1</th>\n",
              "      <td>outros</td>\n",
              "      <td>298</td>\n",
              "    </tr>\n",
              "  </tbody>\n",
              "</table>\n",
              "</div>"
            ],
            "text/plain": [
              "   lingua  total\n",
              "0  ingles   4505\n",
              "1  outros    298"
            ]
          },
          "metadata": {
            "tags": []
          },
          "execution_count": 59
        }
      ]
    },
    {
      "cell_type": "code",
      "metadata": {
        "id": "O3VyATHp37rG",
        "colab_type": "code",
        "outputId": "37c12723-6d89-4647-8091-9170b0cd0fcc",
        "colab": {
          "base_uri": "https://localhost:8080/",
          "height": 295
        }
      },
      "source": [
        "sns.barplot(x='lingua' , y= 'total' , data = dados)"
      ],
      "execution_count": 60,
      "outputs": [
        {
          "output_type": "execute_result",
          "data": {
            "text/plain": [
              "<matplotlib.axes._subplots.AxesSubplot at 0x7fcbb89badd8>"
            ]
          },
          "metadata": {
            "tags": []
          },
          "execution_count": 60
        },
        {
          "output_type": "display_data",
          "data": {
            "image/png": "[encoded data removed]",
            "text/plain": [
              "<Figure size 432x288 with 1 Axes>"
            ]
          },
          "metadata": {
            "tags": []
          }
        }
      ]
    },
    {
      "cell_type": "code",
      "metadata": {
        "id": "WjYxXxQK4PGo",
        "colab_type": "code",
        "outputId": "e3671a97-209f-4432-ff32-2d535c47ddab",
        "colab": {
          "base_uri": "https://localhost:8080/",
          "height": 312
        }
      },
      "source": [
        "plt.pie(dados [\"total\"], labels=dados [\"lingua\"])"
      ],
      "execution_count": 61,
      "outputs": [
        {
          "output_type": "execute_result",
          "data": {
            "text/plain": [
              "([<matplotlib.patches.Wedge at 0x7fcbb894a898>,\n",
              "  <matplotlib.patches.Wedge at 0x7fcbb894ada0>],\n",
              " [Text(-1.0791697536499925, 0.2130554923183512, 'ingles'),\n",
              "  Text(1.0791697511565306, -0.2130555049482467, 'outros')])"
            ]
          },
          "metadata": {
            "tags": []
          },
          "execution_count": 61
        },
        {
          "output_type": "display_data",
          "data": {
            "image/png": "[encoded data removed]",
            "text/plain": [
              "<Figure size 432x288 with 1 Axes>"
            ]
          },
          "metadata": {
            "tags": []
          }
        }
      ]
    },
    {
      "cell_type": "code",
      "metadata": {
        "id": "Rt9NHie4nVvX",
        "colab_type": "code",
        "outputId": "fbb1aeec-c5be-4e18-d62c-13eed85abc43",
        "colab": {
          "base_uri": "https://localhost:8080/",
          "height": 618
        }
      },
      "source": [
        "total_por_lingua_de_outros_filmes = tmdb.query(\"original_language != 'en'\").original_language.value_counts()\n",
        "total_por_lingua_de_outros_filmes"
      ],
      "execution_count": 62,
      "outputs": [
        {
          "output_type": "execute_result",
          "data": {
            "text/plain": [
              "fr    70\n",
              "es    32\n",
              "zh    27\n",
              "de    27\n",
              "hi    19\n",
              "ja    16\n",
              "it    14\n",
              "cn    12\n",
              "ru    11\n",
              "ko    11\n",
              "pt     9\n",
              "da     7\n",
              "sv     5\n",
              "fa     4\n",
              "nl     4\n",
              "th     3\n",
              "he     3\n",
              "id     2\n",
              "cs     2\n",
              "ar     2\n",
              "ta     2\n",
              "ro     2\n",
              "hu     1\n",
              "vi     1\n",
              "te     1\n",
              "ps     1\n",
              "nb     1\n",
              "is     1\n",
              "no     1\n",
              "tr     1\n",
              "sl     1\n",
              "xx     1\n",
              "pl     1\n",
              "el     1\n",
              "ky     1\n",
              "af     1\n",
              "Name: original_language, dtype: int64"
            ]
          },
          "metadata": {
            "tags": []
          },
          "execution_count": 62
        }
      ]
    },
    {
      "cell_type": "code",
      "metadata": {
        "id": "rCr6Xph2rzFf",
        "colab_type": "code",
        "outputId": "b366d012-56ae-401e-8950-b1f84f1d1740",
        "colab": {
          "base_uri": "https://localhost:8080/",
          "height": 385
        }
      },
      "source": [
        "filmes_sem_lingua_original_em_ingles = tmdb.query(\"original_language != 'en'\")\n",
        "\n",
        "sns.catplot(x = \"original_language\", kind=\"count\", data = filmes_sem_lingua_original_em_ingles)"
      ],
      "execution_count": 63,
      "outputs": [
        {
          "output_type": "execute_result",
          "data": {
            "text/plain": [
              "<seaborn.axisgrid.FacetGrid at 0x7fcbbb4d3cc0>"
            ]
          },
          "metadata": {
            "tags": []
          },
          "execution_count": 63
        },
        {
          "output_type": "display_data",
          "data": {
            "image/png": "[encoded data removed]",
            "text/plain": [
              "<Figure size 360x360 with 1 Axes>"
            ]
          },
          "metadata": {
            "tags": []
          }
        }
      ]
    },
    {
      "cell_type": "code",
      "metadata": {
        "id": "j5KB97mqn0Yp",
        "colab_type": "code",
        "outputId": "5352d2a6-036c-4833-dcd0-2d4df52cdfc2",
        "colab": {
          "base_uri": "https://localhost:8080/",
          "height": 385
        }
      },
      "source": [
        "filmes_sem_lingua_original_em_ingles = tmdb.query(\"original_language != 'en'\")\n",
        "\n",
        "sns.catplot(x = \"original_language\", kind=\"count\", data = filmes_sem_lingua_original_em_ingles, aspect= 2, palette= \"GnBu_d\" ,order= total_por_lingua_de_outros_filmes.index)"
      ],
      "execution_count": 64,
      "outputs": [
        {
          "output_type": "execute_result",
          "data": {
            "text/plain": [
              "<seaborn.axisgrid.FacetGrid at 0x7fcbb87e57b8>"
            ]
          },
          "metadata": {
            "tags": []
          },
          "execution_count": 64
        },
        {
          "output_type": "display_data",
          "data": {
            "image/png": "[encoded data removed]",
            "text/plain": [
              "<Figure size 720x360 with 1 Axes>"
            ]
          },
          "metadata": {
            "tags": []
          }
        }
      ]
    },
    {
      "cell_type": "markdown",
      "metadata": {
        "id": "4sj3VK7ozP5k",
        "colab_type": "text"
      },
      "source": [
        "#Revisando o papel de média, mediana, medidas de tendência central, dispersão, desvio padrão, box plot, histograma"
      ]
    },
    {
      "cell_type": "code",
      "metadata": {
        "id": "56CJ-C4jo4yc",
        "colab_type": "code",
        "outputId": "dc58ff89-5b40-4a94-f81b-bf2d46070f73",
        "colab": {
          "base_uri": "https://localhost:8080/",
          "height": 0
        }
      },
      "source": [
        "filmes.head(2)"
      ],
      "execution_count": 65,
      "outputs": [
        {
          "output_type": "execute_result",
          "data": {
            "text/html": [
              "<div>\n",
              "<style scoped>\n",
              "    .dataframe tbody tr th:only-of-type {\n",
              "        vertical-align: middle;\n",
              "    }\n",
              "\n",
              "    .dataframe tbody tr th {\n",
              "        vertical-align: top;\n",
              "    }\n",
              "\n",
              "    .dataframe thead th {\n",
              "        text-align: right;\n",
              "    }\n",
              "</style>\n",
              "<table border=\"1\" class=\"dataframe\">\n",
              "  <thead>\n",
              "    <tr style=\"text-align: right;\">\n",
              "      <th></th>\n",
              "      <th>filmesId</th>\n",
              "      <th>titulo</th>\n",
              "      <th>genero</th>\n",
              "    </tr>\n",
              "  </thead>\n",
              "  <tbody>\n",
              "    <tr>\n",
              "      <th>0</th>\n",
              "      <td>1</td>\n",
              "      <td>Toy Story (1995)</td>\n",
              "      <td>Adventure|Animation|Children|Comedy|Fantasy</td>\n",
              "    </tr>\n",
              "    <tr>\n",
              "      <th>1</th>\n",
              "      <td>2</td>\n",
              "      <td>Jumanji (1995)</td>\n",
              "      <td>Adventure|Children|Fantasy</td>\n",
              "    </tr>\n",
              "  </tbody>\n",
              "</table>\n",
              "</div>"
            ],
            "text/plain": [
              "   filmesId            titulo                                       genero\n",
              "0         1  Toy Story (1995)  Adventure|Animation|Children|Comedy|Fantasy\n",
              "1         2    Jumanji (1995)                   Adventure|Children|Fantasy"
            ]
          },
          "metadata": {
            "tags": []
          },
          "execution_count": 65
        }
      ]
    },
    {
      "cell_type": "code",
      "metadata": {
        "id": "DYjD1Ds0stDC",
        "colab_type": "code",
        "outputId": "643d23ca-579c-4888-ddac-26cf70ee71c5",
        "colab": {
          "base_uri": "https://localhost:8080/",
          "height": 0
        }
      },
      "source": [
        "notas_do_toy_storie = notas.query(\"filmesId==1\")\n",
        "notas_do_jumanji = notas.query(\"filmesId==2\")\n",
        "print(len(notas_do_toy_storie), len(notas_do_jumanji))"
      ],
      "execution_count": 66,
      "outputs": [
        {
          "output_type": "stream",
          "text": [
            "215 110\n"
          ],
          "name": "stdout"
        }
      ]
    },
    {
      "cell_type": "code",
      "metadata": {
        "id": "31P3-vH9sz9q",
        "colab_type": "code",
        "outputId": "4070c84e-f74c-4755-852a-bb5e27ee3870",
        "colab": {
          "base_uri": "https://localhost:8080/",
          "height": 0
        }
      },
      "source": [
        "print(\"nota média do Toy Storie %.2f\" % notas_do_toy_storie.notas.mean())\n",
        "print(\"nota média do Jumanji %.2f\" % notas_do_jumanji.notas.mean())"
      ],
      "execution_count": 67,
      "outputs": [
        {
          "output_type": "stream",
          "text": [
            "nota média do Toy Storie 3.92\n",
            "nota média do Jumanji 3.43\n"
          ],
          "name": "stdout"
        }
      ]
    },
    {
      "cell_type": "code",
      "metadata": {
        "id": "-NrYvA7cuQcl",
        "colab_type": "code",
        "outputId": "49543aae-e87f-42b3-f7ee-b9608790471f",
        "colab": {
          "base_uri": "https://localhost:8080/",
          "height": 0
        }
      },
      "source": [
        "print(\"nota médiana do Toy Storie %.2f\" % notas_do_toy_storie.notas.median())\n",
        "print(\"nota médiana do Jumanji %.2f\" % notas_do_jumanji.notas.median())"
      ],
      "execution_count": 68,
      "outputs": [
        {
          "output_type": "stream",
          "text": [
            "nota médiana do Toy Storie 4.00\n",
            "nota médiana do Jumanji 3.50\n"
          ],
          "name": "stdout"
        }
      ]
    },
    {
      "cell_type": "code",
      "metadata": {
        "id": "3xXtdLrHu2gt",
        "colab_type": "code",
        "outputId": "a9d82278-1408-46be-9359-76683ca3fe87",
        "colab": {
          "base_uri": "https://localhost:8080/",
          "height": 0
        }
      },
      "source": [
        "plt.boxplot([notas_do_toy_storie.notas , notas_do_jumanji.notas])\n"
      ],
      "execution_count": 69,
      "outputs": [
        {
          "output_type": "execute_result",
          "data": {
            "text/plain": [
              "{'boxes': [<matplotlib.lines.Line2D at 0x7fcbb86cccf8>,\n",
              "  <matplotlib.lines.Line2D at 0x7fcbb8667400>],\n",
              " 'caps': [<matplotlib.lines.Line2D at 0x7fcbb86db6d8>,\n",
              "  <matplotlib.lines.Line2D at 0x7fcbb86dba20>,\n",
              "  <matplotlib.lines.Line2D at 0x7fcbb8667e10>,\n",
              "  <matplotlib.lines.Line2D at 0x7fcbb8672198>],\n",
              " 'fliers': [<matplotlib.lines.Line2D at 0x7fcbb86670f0>,\n",
              "  <matplotlib.lines.Line2D at 0x7fcbb8672828>],\n",
              " 'means': [],\n",
              " 'medians': [<matplotlib.lines.Line2D at 0x7fcbb86dbd68>,\n",
              "  <matplotlib.lines.Line2D at 0x7fcbb86724e0>],\n",
              " 'whiskers': [<matplotlib.lines.Line2D at 0x7fcbb86db048>,\n",
              "  <matplotlib.lines.Line2D at 0x7fcbb86db390>,\n",
              "  <matplotlib.lines.Line2D at 0x7fcbb8667780>,\n",
              "  <matplotlib.lines.Line2D at 0x7fcbb8667ac8>]}"
            ]
          },
          "metadata": {
            "tags": []
          },
          "execution_count": 69
        },
        {
          "output_type": "display_data",
          "data": {
            "image/png": "[encoded data removed]",
            "text/plain": [
              "<Figure size 432x288 with 1 Axes>"
            ]
          },
          "metadata": {
            "tags": []
          }
        }
      ]
    },
    {
      "cell_type": "code",
      "metadata": {
        "id": "Gsk-1lDBwiIo",
        "colab_type": "code",
        "outputId": "4becc0f4-4c68-4b13-b3b6-0151e2d0b5ab",
        "colab": {
          "base_uri": "https://localhost:8080/",
          "height": 0
        }
      },
      "source": [
        "sns.boxplot(x=\"filmesId\", y=\"notas\", data = notas.query(\"filmesId in [1,2,3,4,5]\"))"
      ],
      "execution_count": 70,
      "outputs": [
        {
          "output_type": "execute_result",
          "data": {
            "text/plain": [
              "<matplotlib.axes._subplots.AxesSubplot at 0x7fcbb869d6d8>"
            ]
          },
          "metadata": {
            "tags": []
          },
          "execution_count": 70
        },
        {
          "output_type": "display_data",
          "data": {
            "image/png": "[encoded data removed]",
            "text/plain": [
              "<Figure size 432x288 with 1 Axes>"
            ]
          },
          "metadata": {
            "tags": []
          }
        }
      ]
    },
    {
      "cell_type": "code",
      "metadata": {
        "id": "qivSD6xBxPeR",
        "colab_type": "code",
        "outputId": "8a2757f2-8f4a-4ef0-c624-bd623a98016c",
        "colab": {
          "base_uri": "https://localhost:8080/",
          "height": 0
        }
      },
      "source": [
        "print(notas_do_toy_storie.notas.std(), notas_do_jumanji.notas.std())"
      ],
      "execution_count": 71,
      "outputs": [
        {
          "output_type": "stream",
          "text": [
            "0.8348591407114045 0.8817134921476455\n"
          ],
          "name": "stdout"
        }
      ]
    },
    {
      "cell_type": "code",
      "metadata": {
        "id": "sJUMWAYeyQAy",
        "colab_type": "code",
        "colab": {}
      },
      "source": [
        ""
      ],
      "execution_count": 0,
      "outputs": []
    }
  ]
}